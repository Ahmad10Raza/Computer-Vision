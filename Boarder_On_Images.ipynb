{
 "cells": [
  {
   "cell_type": "markdown",
   "metadata": {},
   "source": [
    "# Border On Images Using OpenCV"
   ]
  },
  {
   "cell_type": "markdown",
   "metadata": {},
   "source": [
    "In OpenCV, you can apply different types of borders to an image using the `cv2.copyMakeBorder()` function. This function allows you to add a border of a specified size and type to an image. Here are some common border types you can use:\n",
    "\n",
    "1. **Constant Border**: Add a border filled with a constant value.\n",
    "\n",
    "```python\n",
    "import cv2\n",
    "import numpy as np\n",
    "\n",
    "image = cv2.imread('image.jpg')\n",
    "\n",
    "top, bottom, left, right = 10, 10, 10, 10  # Border sizes\n",
    "border_color = [255, 0, 0]  # Border color in BGR format (blue in this case)\n",
    "\n",
    "bordered_image = cv2.copyMakeBorder(image, top, bottom, left, right, cv2.BORDER_CONSTANT, value=border_color)\n",
    "cv2.imshow('Constant Border', bordered_image)\n",
    "cv2.waitKey(0)\n",
    "cv2.destroyAllWindows()\n",
    "```\n",
    "\n",
    "2. **Replicate Border**: Replicate the border pixels.\n",
    "\n",
    "```python\n",
    "bordered_image = cv2.copyMakeBorder(image, top, bottom, left, right, cv2.BORDER_REPLICATE)\n",
    "```\n",
    "\n",
    "3. **Reflect Border**: Reflect the border pixels.\n",
    "\n",
    "```python\n",
    "bordered_image = cv2.copyMakeBorder(image, top, bottom, left, right, cv2.BORDER_REFLECT)\n",
    "```\n",
    "\n",
    "4. **Reflect 101 Border**: Reflect the border pixels but with a slight variation.\n",
    "\n",
    "```python\n",
    "bordered_image = cv2.copyMakeBorder(image, top, bottom, left, right, cv2.BORDER_REFLECT_101)\n",
    "```\n",
    "\n",
    "5. **Wrap Border**: Wrap the border pixels.\n",
    "\n",
    "```python\n",
    "bordered_image = cv2.copyMakeBorder(image, top, bottom, left, right, cv2.BORDER_WRAP)\n",
    "```\n",
    "\n",
    "6. **Isolated Border**: Surround the image with all zeros.\n",
    "\n",
    "```python\n",
    "bordered_image = cv2.copyMakeBorder(image, top, bottom, left, right, cv2.BORDER_ISOLATED)\n",
    "```\n",
    "\n",
    "You can replace `image.jpg` with the path to your image file and adjust the border sizes and colors as needed. The `cv2.copyMakeBorder()` function allows you to control the size and type of the border added to the image according to your requirements."
   ]
  },
  {
   "cell_type": "code",
   "execution_count": 1,
   "metadata": {},
   "outputs": [],
   "source": [
    "import cv2\n",
    "import numpy as np\n",
    "\n",
    "image = cv2.imread('Images/color_balls.jpg')\n",
    "\n",
    "top, bottom, left, right = 10, 10, 10, 10  # Border sizes\n",
    "border_color = [255, 0, 0]  # Border color in BGR format (blue in this case)\n",
    "\n",
    "bordered_image = cv2.copyMakeBorder(image, top, bottom, left, right, cv2.BORDER_CONSTANT, value=border_color)\n",
    "cv2.imshow('Constant Border', bordered_image)\n",
    "cv2.waitKey(0)\n",
    "cv2.destroyAllWindows()\n"
   ]
  },
  {
   "cell_type": "code",
   "execution_count": 2,
   "metadata": {},
   "outputs": [],
   "source": [
    "\n",
    "import cv2\n",
    "import numpy as np\n",
    "\n",
    "image = cv2.imread('Images/color_balls.jpg')\n",
    "\n",
    "top, bottom, left, right = 10, 10, 10, 10  # Border sizes\n",
    "border_color = [255, 0, 0]  # Border color in BGR format (blue in this case)\n",
    "\n",
    "bordered_image = cv2.copyMakeBorder(image, top, bottom, left, right, cv2.BORDER_REPLICATE)\n",
    "cv2.imshow('Constant Border', bordered_image)\n",
    "cv2.waitKey(0)\n",
    "cv2.destroyAllWindows()\n"
   ]
  }
 ],
 "metadata": {
  "kernelspec": {
   "display_name": "Python 3",
   "language": "python",
   "name": "python3"
  },
  "language_info": {
   "codemirror_mode": {
    "name": "ipython",
    "version": 3
   },
   "file_extension": ".py",
   "mimetype": "text/x-python",
   "name": "python",
   "nbconvert_exporter": "python",
   "pygments_lexer": "ipython3",
   "version": "3.10.12"
  },
  "orig_nbformat": 4
 },
 "nbformat": 4,
 "nbformat_minor": 2
}
