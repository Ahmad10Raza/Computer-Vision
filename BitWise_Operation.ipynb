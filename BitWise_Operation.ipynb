{
 "cells": [
  {
   "cell_type": "markdown",
   "metadata": {},
   "source": [
    "# Bitwise Opeartion"
   ]
  },
  {
   "cell_type": "markdown",
   "metadata": {},
   "source": [
    "In OpenCV, bitwise operations can be performed on images and masks using functions provided by the library. These operations allow you to combine, mask, or manipulate the pixel values of images or specific regions within images. OpenCV provides the following bitwise operations:\n",
    "\n",
    "1. **Bitwise AND (`cv2.bitwise_and`):**\n",
    "   - Performs a bitwise AND operation between two images or masks.\n",
    "   - Resultant pixel values are set to 255 (white) only if the corresponding pixel values in both input images are greater than zero.\n",
    "\n",
    "   Example:\n",
    "   ```python\n",
    "   result = cv2.bitwise_and(img1, img2)\n",
    "   ```\n",
    "\n",
    "2. **Bitwise OR (`cv2.bitwise_or`):**\n",
    "   - Performs a bitwise OR operation between two images or masks.\n",
    "   - Resultant pixel values are set to 255 (white) if either of the corresponding pixel values in the input images is greater than zero.\n",
    "\n",
    "   Example:\n",
    "   ```python\n",
    "   result = cv2.bitwise_or(img1, img2)\n",
    "   ```\n",
    "\n",
    "3. **Bitwise XOR (`cv2.bitwise_xor`):**\n",
    "   - Performs a bitwise XOR (exclusive OR) operation between two images or masks.\n",
    "   - Resultant pixel values are set to 255 (white) if the corresponding pixel values in the input images are different (one is greater than zero and the other is not).\n",
    "\n",
    "   Example:\n",
    "   ```python\n",
    "   result = cv2.bitwise_xor(img1, img2)\n",
    "   ```\n",
    "\n",
    "4. **Bitwise NOT (`cv2.bitwise_not`):**\n",
    "   - Performs a bitwise NOT operation on an image or mask.\n",
    "   - Inverts the pixel values: 0 becomes 255 (white), and 255 becomes 0 (black).\n",
    "\n",
    "   Example:\n",
    "   ```python\n",
    "   result = cv2.bitwise_not(img)\n",
    "   ```\n",
    "\n",
    "These bitwise operations in OpenCV are useful for tasks such as masking regions of interest (ROIs), extracting specific features from images, or creating custom binary masks for various image processing tasks. You can use these operations to combine, isolate, or manipulate pixel values within images and masks efficiently."
   ]
  },
  {
   "cell_type": "code",
   "execution_count": 1,
   "metadata": {},
   "outputs": [],
   "source": [
    "#Bitwise Operations includes AND, OR, NOT and XOR \n",
    "#It is most important and use for various purpose like masking\n",
    "#and find roi(region of intereset) which is in complex shape.\n",
    "\n",
    "import cv2\n",
    "import numpy as np\n",
    "\n",
    "img1 = np.zeros((250, 500, 3), np.uint8)\n",
    "img1 = cv2.rectangle(img1,(150, 100), (200, 250), (255, 255, 255), -1)\n",
    "img2 = np.zeros((250, 500, 3), np.uint8)\n",
    "img2 = cv2.rectangle(img2,(10, 10), (170, 190), (255, 255, 255), -1)\n",
    "\n",
    "bitAnd = cv2.bitwise_and(img2, img1)\n",
    "bitOr = cv2.bitwise_or(img2, img1)\n",
    "bitXor = cv2.bitwise_xor(img1, img2)\n",
    "bitNot1 = cv2.bitwise_not(img1)\n",
    "bitNot2 = cv2.bitwise_not(img2)\n",
    "\n",
    "cv2.imshow(\"img1\", img1)\n",
    "cv2.imshow(\"img2\", img2)\n",
    "\n",
    "#cv2.imshow('bitAnd', bitAnd)\n",
    "#cv2.imshow('bitOr', bitOr)\n",
    "#cv2.imshow('bitXor', bitXor)\n",
    "#cv2.imshow('bitNot1', bitNot1)\n",
    "#cv2.imshow('bitNot2', bitNot2)\n",
    "\n",
    "cv2.waitKey(0)\n",
    "cv2.destroyAllWindows()"
   ]
  }
 ],
 "metadata": {
  "kernelspec": {
   "display_name": "Python 3",
   "language": "python",
   "name": "python3"
  },
  "language_info": {
   "codemirror_mode": {
    "name": "ipython",
    "version": 3
   },
   "file_extension": ".py",
   "mimetype": "text/x-python",
   "name": "python",
   "nbconvert_exporter": "python",
   "pygments_lexer": "ipython3",
   "version": "3.10.12"
  },
  "orig_nbformat": 4
 },
 "nbformat": 4,
 "nbformat_minor": 2
}
