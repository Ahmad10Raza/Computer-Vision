{
 "cells": [
  {
   "cell_type": "markdown",
   "metadata": {},
   "source": [
    "# Image Processing Using OpenCV"
   ]
  },
  {
   "cell_type": "markdown",
   "metadata": {},
   "source": [
    "### Image Processing\n",
    "\n",
    "* Image Resizing\n",
    "* Eroding an Image\n",
    "* Blurring an Image\n",
    "* Create Border around Images\n",
    "* Grayscaling of Images\n",
    "* Scaling, Rotating, Shifting and Edge Detection\n",
    "* Erosion and Dilation of images\n",
    "* Analyze an image using Histogram\n",
    "* Histograms Equalization\n",
    "* Simple Thresholding\n",
    "* Adaptive Thresholding\n",
    "* Otsu Thresholding\n",
    "* Segmentation using Thresholding\n",
    "* Convert an image from one color space to another\n",
    "* Filter Color with OpenCV\n",
    "* Denoising of colored images\n",
    "* Visualizing image in different color spaces\n",
    "* Find Co-ordinates of Contours\n",
    "* Bilateral Filtering\n",
    "* Image Inpainting using OpenCV\n",
    "* Intensity Transformation Operations on Images\n",
    "* Image Registration\n",
    "* Background subtraction\n",
    "* Background Subtraction in an Image using Concept of Running Average\n",
    "* Foreground Extraction in an Image using Grabcut Algorithm\n",
    "* Morphological Ope* rations in Image Processing (Opening)\n",
    "* Morphological Operations in Image Processing (Closing)\n",
    "* Morphological Operations in Image Processing (Gradient)\n",
    "* Image segmentation using Morphological operations\n",
    "* Image Translation\n",
    "* Image Pyramid"
   ]
  },
  {
   "cell_type": "code",
   "execution_count": null,
   "metadata": {},
   "outputs": [],
   "source": []
  }
 ],
 "metadata": {
  "language_info": {
   "name": "python"
  },
  "orig_nbformat": 4
 },
 "nbformat": 4,
 "nbformat_minor": 2
}
